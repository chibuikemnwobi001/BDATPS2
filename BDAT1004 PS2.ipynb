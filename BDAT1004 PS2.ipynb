{
 "cells": [
  {
   "cell_type": "code",
   "execution_count": 1,
   "id": "8775100a",
   "metadata": {},
   "outputs": [
    {
     "name": "stdout",
     "output_type": "stream",
     "text": [
      "6\n"
     ]
    }
   ],
   "source": [
    "#QUESTION 1\n",
    "\n",
    "a = 0  # Global variable 'a' is initialized with the value 0.\n",
    "\n",
    "def b():\n",
    "    global a  # Access the global variable 'a'.\n",
    "    a = c(a)  # Call 'c(a)' function and update 'a' with the returned value.\n",
    "\n",
    "def c(a):\n",
    "    return a + 2  # Add 2 to the parameter 'a' and return the result.\n",
    "\n",
    "b()  # Call function 'b()'\n",
    "b()  \n",
    "b()  \n",
    "\n",
    "print(a)  # Print the value of 'a'\n"
   ]
  },
  {
   "cell_type": "markdown",
   "id": "d737c4b0",
   "metadata": {},
   "source": [
    "The result of running the aforementioned code is that the value shown when print(a) is run will be 6.\n",
    "\n",
    "The breakdown of the execution is as follows:\n",
    "\n",
    "At first, the variable an is given the value 0.\n",
    "Three times the method b() is used, invoking c(a) to change the value of a.\n",
    "When b() is initially called, it sets a to c(0) and returns 0 + 2 = 2.\n",
    "When b() is called a second time, it sets a to c(2), which produces 2 + 2 = 4.\n",
    "A is changed to c(4) in the third call to b(), which produces the result 4 + 2 = 6.\n",
    "The value of a, which is 6 when print(a) is finished, is output.\n",
    "As a result, when print(a) is calculated, the value printed is 6."
   ]
  },
  {
   "cell_type": "code",
   "execution_count": 3,
   "id": "ec41ce91",
   "metadata": {},
   "outputs": [],
   "source": [
    "#QUESTION 2\n",
    "\n",
    "def fileLength(filename):\n",
    "    try:\n",
    "        with open(filename, 'r') as file:\n",
    "            contents = file.read()\n",
    "            length = len(contents)\n",
    "            return length\n",
    "    except FileNotFoundError:\n",
    "        print(\"File\", filename, \"not found.\")"
   ]
  },
  {
   "cell_type": "code",
   "execution_count": 4,
   "id": "2ef724b5",
   "metadata": {},
   "outputs": [
    {
     "name": "stdout",
     "output_type": "stream",
     "text": [
      "File midterm.py not found.\n",
      "File idterm.py not found.\n"
     ]
    }
   ],
   "source": [
    "fileLength('midterm.py')  # Output: 358\n",
    "fileLength('idterm.py')  # Output: File idterm.py not found."
   ]
  },
  {
   "cell_type": "code",
   "execution_count": 14,
   "id": "06ca0fb1",
   "metadata": {},
   "outputs": [
    {
     "name": "stdout",
     "output_type": "stream",
     "text": [
      "['doll', 'firetruck', 'kitten', 'doll', 'firetruck', 'kitten']\n",
      "I am a Kangaroo located at coordinates (0,0)\n",
      "['doll', 'firetruck', 'kitten']\n",
      "I am a Kangaroo located at coordinates (3,0)\n"
     ]
    }
   ],
   "source": [
    "#QUESTION 3\n",
    "\n",
    "class Marsupial:\n",
    "    def __init__(self):\n",
    "        self.pouch = []\n",
    "\n",
    "    def put_in_pouch(self, item):\n",
    "        self.pouch.append(item)\n",
    "\n",
    "    def pouch_contents(self):\n",
    "        return self.pouch\n",
    "\n",
    "\n",
    "class Kangaroo(Marsupial):\n",
    "    def __init__(self, x, y):\n",
    "        super().__init__()\n",
    "        self.x = x\n",
    "        self.y = y\n",
    "\n",
    "    def jump(self, dx, dy):\n",
    "        self.x += dx\n",
    "        self.y += dy\n",
    "\n",
    "    def __str__(self):\n",
    "        return f\"I am a Kangaroo located at coordinates ({self.x},{self.y})\"\n",
    "    m = Marsupial()\n",
    "\n",
    "m.put_in_pouch('doll')\n",
    "m.put_in_pouch('firetruck')\n",
    "m.put_in_pouch('kitten')\n",
    "print(m.pouch_contents())  # Output: ['doll', 'firetruck', 'kitten']\n",
    "\n",
    "k = Kangaroo(0, 0)\n",
    "print(k)  # Output: I am a Kangaroo located at coordinates (0,0)\n",
    "k.put_in_pouch('doll')\n",
    "k.put_in_pouch('firetruck')\n",
    "k.put_in_pouch('kitten')\n",
    "print(k.pouch_contents())  # Output: ['doll', 'firetruck', 'kitten']\n",
    "k.jump(1, 0)\n",
    "k.jump(1, 0)\n",
    "k.jump(1, 0)\n",
    "print(k)  # Output: I am a Kangaroo located at coordinates (3,0)"
   ]
  },
  {
   "cell_type": "code",
   "execution_count": 13,
   "id": "a935f40c",
   "metadata": {},
   "outputs": [
    {
     "name": "stdout",
     "output_type": "stream",
     "text": [
      "1\n",
      "10\n",
      "5\n",
      "16\n",
      "8\n",
      "4\n",
      "2\n",
      "1\n"
     ]
    }
   ],
   "source": [
    "#QUESTION 4\n",
    "\n",
    "def collatz(x):\n",
    "    print(x)\n",
    "    if x == 1:\n",
    "        return\n",
    "    elif x % 2 == 0:\n",
    "        collatz(x // 2)\n",
    "    else:\n",
    "        collatz(3 * x + 1)\n",
    "\n",
    "collatz(1)\n",
    "collatz(10)"
   ]
  },
  {
   "cell_type": "code",
   "execution_count": 15,
   "id": "e3c73d2e",
   "metadata": {},
   "outputs": [
    {
     "name": "stdout",
     "output_type": "stream",
     "text": [
      "01111001"
     ]
    }
   ],
   "source": [
    "#QUESTION 5\n",
    "\n",
    "def binary(n):\n",
    "    if n <= 1:\n",
    "        print(n, end='')\n",
    "    else:\n",
    "        binary(n // 2)\n",
    "        print(n % 2, end='')\n",
    "        \n",
    "binary(0)\n",
    "binary(1)\n",
    "binary(3)\n",
    "binary(9)"
   ]
  },
  {
   "cell_type": "code",
   "execution_count": 17,
   "id": "b0aa5c45",
   "metadata": {},
   "outputs": [
    {
     "name": "stdout",
     "output_type": "stream",
     "text": [
      "Change_me\n",
      "W3C Mission\n",
      " Principles\n",
      " \n"
     ]
    }
   ],
   "source": [
    "#question 6\n",
    "from html.parser import HTMLParser\n",
    "\n",
    "\n",
    "class HeadingParser(HTMLParser):\n",
    "    def __init__(self):\n",
    "        super().__init__()\n",
    "        self.headings = []\n",
    "        self.current_heading = \"\"\n",
    "        self.indentation = 0\n",
    "\n",
    "    def handle_starttag(self, tag, attrs):\n",
    "        if tag.startswith('h'):\n",
    "            try:\n",
    "                self.indentation = int(tag[1]) - 1\n",
    "            except ValueError:\n",
    "                pass\n",
    "\n",
    "    def handle_endtag(self, tag):\n",
    "        if tag.startswith('h'):\n",
    "            self.headings.append((' ' * self.indentation) + self.current_heading.strip())\n",
    "            self.current_heading = \"\"\n",
    "\n",
    "    def handle_data(self, data):\n",
    "        self.current_heading += data.strip()\n",
    "\n",
    "    def print_headings(self):\n",
    "        for heading in self.headings:\n",
    "            print(heading)\n",
    "\n",
    "\n",
    "filename = 'w3c.html'\n",
    "try:\n",
    "    with open(filename, 'r') as file:\n",
    "        content = file.read()\n",
    "except FileNotFoundError:\n",
    "    print(f\"File {filename} not found.\")\n",
    "else:\n",
    "    hp = HeadingParser()\n",
    "    hp.feed(content)\n",
    "    hp.print_headings()\n"
   ]
  },
  {
   "cell_type": "code",
   "execution_count": 25,
   "id": "045d0db5",
   "metadata": {},
   "outputs": [
    {
     "name": "stdout",
     "output_type": "stream",
     "text": [
      "http://reed.cs.depaul.edu/lperkovic/csc242/test1.html\n",
      "http://reed.cs.depaul.edu/lperkovic/csc242/test2.html\n",
      "http://reed.cs.depaul.edu/lperkovic/csc242/test4.html\n",
      "http://reed.cs.depaul.edu/lperkovic/csc242/test3.html\n",
      "http://reed.cs.depaul.edu/lperkovic/csc242/test4.html\n"
     ]
    }
   ],
   "source": [
    "#QUESTION 7\n",
    "\n",
    "import requests\n",
    "from bs4 import BeautifulSoup\n",
    "\n",
    " \n",
    "\n",
    "def webdir(url, depth, indent):\n",
    "    print(' ' * indent + url)\n",
    "\n",
    " \n",
    "\n",
    "    if depth == 0:\n",
    "        return\n",
    "\n",
    " \n",
    "\n",
    "    response = requests.get(url)\n",
    "\n",
    " \n",
    "\n",
    "    soup = BeautifulSoup(response.content, 'html.parser')\n",
    "\n",
    " \n",
    "\n",
    "    links = soup.find_all('a')\n",
    "    for link in links:\n",
    "        href = link.get('href')\n",
    "        if href.startswith('http'): \n",
    "            webdir(href, depth - 1, indent + 1)\n",
    "\n",
    " \n",
    "\n",
    "webdir('http://reed.cs.depaul.edu/lperkovic/csc242/test1.html', 2, 0)\n",
    "webdir('http://reed.cs.depaul.edu/lperkovic/csc242/test2.html', 2, 0)\n",
    "webdir('http://reed.cs.depaul.edu/lperkovic/csc242/test4.html', 2, 0)\n",
    "webdir('http://reed.cs.depaul.edu/lperkovic/csc242/test3.html', 2, 0)\n",
    "webdir('http://reed.cs.depaul.edu/lperkovic/csc242/test4.html', 2, 0)"
   ]
  },
  {
   "cell_type": "code",
   "execution_count": 20,
   "id": "cedba310",
   "metadata": {},
   "outputs": [
    {
     "name": "stdout",
     "output_type": "stream",
     "text": [
      "Temperature:\n",
      "[(24.8,), (28.4,), (27.9,), (27.6,), (4.2,), (8.3,), (15.7,), (10.4,), (13.6,), (20.7,), (27.7,), (22.2,)]\n",
      "\n",
      "Cities:\n",
      "[('Mumbai',), ('London',), ('Cairo',)]\n",
      "\n",
      "Records for India:\n",
      "[('Mumbai', 'India', 'Winter', 24.8, 5.9), ('Mumbai', 'India', 'Spring', 28.4, 16.2), ('Mumbai', 'India', 'Summer', 27.9, 1549.4), ('Mumbai', 'India', 'Fall', 27.6, 346.0)]\n",
      "\n",
      "Fall records:\n",
      "[('Mumbai', 'India', 'Fall', 27.6, 346.0), ('London', 'United Kingdom', 'Fall', 10.4, 218.5), ('Cairo', 'Egypt', 'Fall', 22.2, 4.5)]\n",
      "\n",
      "Average rainfall between 200 and 400 millimeters:\n",
      "[('London', 'United Kingdom', 'Fall'), ('London', 'United Kingdom', 'Winter'), ('Mumbai', 'India', 'Fall')]\n",
      "\n",
      "Average Fall temperature above 20 degrees:\n",
      "[('Cairo', 'Egypt'), ('Mumbai', 'India')]\n",
      "\n",
      "Total annual rainfall for Cairo:\n",
      "27.6\n"
     ]
    },
    {
     "data": {
      "text/plain": [
       "<function Cursor.execute(sql, parameters=(), /)>"
      ]
     },
     "execution_count": 20,
     "metadata": {},
     "output_type": "execute_result"
    }
   ],
   "source": [
    "#QUESTION 8\n",
    "\n",
    "import sqlite3\n",
    "\n",
    "# Create a new SQLite database\n",
    "conn = sqlite3.connect('weather_data.db')\n",
    "cursor = conn.cursor()\n",
    "\n",
    "# Create the table\n",
    "cursor.execute('''CREATE TABLE weather (\n",
    "                    City TEXT,\n",
    "                    Country TEXT,\n",
    "                    Season TEXT,\n",
    "                    Temperature REAL,\n",
    "                    Rainfall REAL\n",
    "                )''')\n",
    "\n",
    "# Insert the data into the table\n",
    "data = [\n",
    "    ('Mumbai', 'India', 'Winter', 24.8, 5.9),\n",
    "    ('Mumbai', 'India', 'Spring', 28.4, 16.2),\n",
    "    ('Mumbai', 'India', 'Summer', 27.9, 1549.4),\n",
    "    ('Mumbai', 'India', 'Fall', 27.6, 346.0),\n",
    "    ('London', 'United Kingdom', 'Winter', 4.2, 207.7),\n",
    "    ('London', 'United Kingdom', 'Spring', 8.3, 169.6),\n",
    "    ('London', 'United Kingdom', 'Summer', 15.7, 157.0),\n",
    "    ('London', 'United Kingdom', 'Fall', 10.4, 218.5),\n",
    "    ('Cairo', 'Egypt', 'Winter', 13.6, 16.5),\n",
    "    ('Cairo', 'Egypt', 'Spring', 20.7, 6.5),\n",
    "    ('Cairo', 'Egypt', 'Summer', 27.7, 0.1),\n",
    "    ('Cairo', 'Egypt', 'Fall', 22.2, 4.5)\n",
    "]\n",
    "\n",
    "cursor.executemany('INSERT INTO weather VALUES (?,?,?,?,?)', data)\n",
    "\n",
    "# Commit the changes and close the connection\n",
    "conn.commit()\n",
    "conn.close()\n",
    "\n",
    "# Reconnect to the database for executing queries\n",
    "conn = sqlite3.connect('weather_data.db')\n",
    "cursor = conn.cursor()\n",
    "\n",
    "# SQL queries\n",
    "# a) All the temperature data\n",
    "cursor.execute('SELECT Temperature FROM weather')\n",
    "print(\"Temperature:\")\n",
    "print(cursor.fetchall())\n",
    "\n",
    "# b) All the cities, but without repetition\n",
    "cursor.execute('SELECT DISTINCT City FROM weather')\n",
    "print(\"\\nCities:\")\n",
    "print(cursor.fetchall())\n",
    "\n",
    "# c) All the records for India\n",
    "cursor.execute('SELECT * FROM weather WHERE Country = \"India\"')\n",
    "print(\"\\nRecords for India:\")\n",
    "print(cursor.fetchall())\n",
    "\n",
    "# d) All the Fall records\n",
    "cursor.execute('SELECT * FROM weather WHERE Season = \"Fall\"')\n",
    "print(\"\\nFall records:\")\n",
    "print(cursor.fetchall())\n",
    "\n",
    "# e) The city, country, and season for which the average rainfall is between 200 and 400 millimeters\n",
    "cursor.execute('SELECT City, Country, Season FROM weather GROUP BY City, Country, Season HAVING AVG(Rainfall) BETWEEN 200 AND 400')\n",
    "print(\"\\nAverage rainfall between 200 and 400 millimeters:\")\n",
    "print(cursor.fetchall())\n",
    "\n",
    "# f) The city and country for which the average Fall temperature is above 20 degrees, in increasing temperature order\n",
    "cursor.execute('SELECT City, Country FROM weather WHERE Season = \"Fall\" GROUP BY City, Country HAVING AVG(Temperature) > 20 ORDER BY AVG(Temperature)')\n",
    "print(\"\\nAverage Fall temperature above 20 degrees:\")\n",
    "print(cursor.fetchall())\n",
    "\n",
    "# g) The total annual rainfall for Cairo\n",
    "cursor.execute('SELECT SUM(Rainfall) FROM weather WHERE City = \"Cairo\"')\n",
    "print(\"\\nTotal annual rainfall for Cairo:\")\n",
    "print(cursor.fetchone()[0])\n",
    "\n",
    "# h) The total rainfall for each season\n",
    "cursor.execute\n"
   ]
  },
  {
   "cell_type": "code",
   "execution_count": 22,
   "id": "f5f9a5d5",
   "metadata": {},
   "outputs": [
    {
     "name": "stdout",
     "output_type": "stream",
     "text": [
      "['THE', 'QUICK', 'BROWN', 'FOX', 'JUMPS', 'OVER', 'THE', 'LAZY', 'DOG']\n",
      "['the', 'quick', 'brown', 'fox', 'jumps', 'over', 'the', 'lazy', 'dog']\n",
      "[3, 5, 5, 3, 5, 4, 3, 4, 3]\n",
      "[['THE', 'the', 3], ['QUICK', 'quick', 5], ['BROWN', 'brown', 5], ['FOX', 'fox', 3], ['JUMPS', 'jumps', 5], ['OVER', 'over', 4], ['THE', 'the', 3], ['LAZY', 'lazy', 4], ['DOG', 'dog', 3]]\n",
      "['quick', 'brown', 'jumps', 'over', 'lazy']\n"
     ]
    }
   ],
   "source": [
    "#QUESTION 9\n",
    "\n",
    "words = ['The', 'quick', 'brown', 'fox', 'jumps', 'over', 'the', 'lazy', 'dog']\n",
    "\n",
    "# a) Uppercase version of each word\n",
    "a = [word.upper() for word in words]\n",
    "print(a)\n",
    "\n",
    "# b) Lowercase version of each word\n",
    "b = [word.lower() for word in words]\n",
    "print(b)\n",
    "\n",
    "# c) Length of each word\n",
    "c = [len(word) for word in words]\n",
    "print(c)\n",
    "\n",
    "# d) List containing word in uppercase, lowercase, and length of the word\n",
    "d = [[word.upper(), word.lower(), len(word)] for word in words]\n",
    "print(d)\n",
    "\n",
    "# e) Words containing 4 or more characters\n",
    "e = [word for word in words if len(word) >= 4]\n",
    "print(e)\n"
   ]
  },
  {
   "cell_type": "code",
   "execution_count": null,
   "id": "ea97333d",
   "metadata": {},
   "outputs": [],
   "source": []
  }
 ],
 "metadata": {
  "kernelspec": {
   "display_name": "Python 3 (ipykernel)",
   "language": "python",
   "name": "python3"
  },
  "language_info": {
   "codemirror_mode": {
    "name": "ipython",
    "version": 3
   },
   "file_extension": ".py",
   "mimetype": "text/x-python",
   "name": "python",
   "nbconvert_exporter": "python",
   "pygments_lexer": "ipython3",
   "version": "3.10.9"
  }
 },
 "nbformat": 4,
 "nbformat_minor": 5
}
